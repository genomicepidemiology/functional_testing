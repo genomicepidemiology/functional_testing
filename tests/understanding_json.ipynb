{
 "cells": [
  {
   "cell_type": "code",
   "execution_count": 2,
   "metadata": {},
   "outputs": [],
   "source": [
    "import json\n",
    "\n",
    "file_path = r\"/home/people/s220672/functional_testing/tests/data/test_isolate_02_-acq-u.json\"\n",
    "\n",
    "with open(file_path) as f:\n",
    "    random_json = json.load(f)"
   ]
  },
  {
   "cell_type": "code",
   "execution_count": 3,
   "metadata": {},
   "outputs": [
    {
     "data": {
      "text/plain": [
       "['type',\n",
       " 'databases',\n",
       " 'seq_regions',\n",
       " 'seq_variations',\n",
       " 'phenotypes',\n",
       " 'software_executions',\n",
       " 'aln_hits',\n",
       " 'software_name',\n",
       " 'software_version',\n",
       " 'software_commit',\n",
       " 'run_date',\n",
       " 'key',\n",
       " 'provided_species',\n",
       " 'result_summary']"
      ]
     },
     "execution_count": 3,
     "metadata": {},
     "output_type": "execute_result"
    }
   ],
   "source": [
    "list(random_json.keys())"
   ]
  },
  {
   "cell_type": "code",
   "execution_count": 4,
   "metadata": {},
   "outputs": [
    {
     "data": {
      "text/plain": [
       "{'blaCTX-M-33;;1;;AY238472': {'type': 'seq_region',\n",
       "  'phenotypes': ['amoxicillin',\n",
       "   'ampicillin',\n",
       "   'cefepime',\n",
       "   'cefotaxime',\n",
       "   'ceftazidime',\n",
       "   'piperacillin',\n",
       "   'aztreonam',\n",
       "   'ticarcillin',\n",
       "   'ceftriaxone'],\n",
       "  'ref_database': ['ResFinder-2.1.1'],\n",
       "  'gene': True,\n",
       "  'ref_id': 'blaCTX-M-33_1_AY238472',\n",
       "  'name': 'blaCTX-M-33',\n",
       "  'ref_acc': 'AY238472',\n",
       "  'identity': 100.0,\n",
       "  'alignment_length': 876,\n",
       "  'ref_seq_lenght': 876,\n",
       "  'ref_start_pos': 1,\n",
       "  'ref_end_pos': 876,\n",
       "  'query_id': 'test_isolate_02 blaCTX-M-33_1_AY238472',\n",
       "  'query_start_pos': 1,\n",
       "  'query_end_pos': 876,\n",
       "  'pmids': ['17234386'],\n",
       "  'notes': ['Class A'],\n",
       "  'coverage': 100.0,\n",
       "  'grade': 3,\n",
       "  'key': 'blaCTX-M-33;;1;;AY238472'}}"
      ]
     },
     "execution_count": 4,
     "metadata": {},
     "output_type": "execute_result"
    }
   ],
   "source": [
    "random_json[\"seq_regions\"]"
   ]
  },
  {
   "cell_type": "code",
   "execution_count": 5,
   "metadata": {},
   "outputs": [
    {
     "data": {
      "text/html": [
       "<div>\n",
       "<style scoped>\n",
       "    .dataframe tbody tr th:only-of-type {\n",
       "        vertical-align: middle;\n",
       "    }\n",
       "\n",
       "    .dataframe tbody tr th {\n",
       "        vertical-align: top;\n",
       "    }\n",
       "\n",
       "    .dataframe thead th {\n",
       "        text-align: right;\n",
       "    }\n",
       "</style>\n",
       "<table border=\"1\" class=\"dataframe\">\n",
       "  <thead>\n",
       "    <tr style=\"text-align: right;\">\n",
       "      <th></th>\n",
       "      <th>blaCTX-M-33;;1;;AY238472</th>\n",
       "    </tr>\n",
       "  </thead>\n",
       "  <tbody>\n",
       "    <tr>\n",
       "      <th>alignment_length</th>\n",
       "      <td>876</td>\n",
       "    </tr>\n",
       "    <tr>\n",
       "      <th>coverage</th>\n",
       "      <td>100.0</td>\n",
       "    </tr>\n",
       "    <tr>\n",
       "      <th>gene</th>\n",
       "      <td>True</td>\n",
       "    </tr>\n",
       "    <tr>\n",
       "      <th>grade</th>\n",
       "      <td>3</td>\n",
       "    </tr>\n",
       "    <tr>\n",
       "      <th>identity</th>\n",
       "      <td>100.0</td>\n",
       "    </tr>\n",
       "    <tr>\n",
       "      <th>key</th>\n",
       "      <td>blaCTX-M-33;;1;;AY238472</td>\n",
       "    </tr>\n",
       "    <tr>\n",
       "      <th>name</th>\n",
       "      <td>blaCTX-M-33</td>\n",
       "    </tr>\n",
       "    <tr>\n",
       "      <th>notes</th>\n",
       "      <td>[Class A]</td>\n",
       "    </tr>\n",
       "    <tr>\n",
       "      <th>phenotypes</th>\n",
       "      <td>[amoxicillin, ampicillin, cefepime, cefotaxime...</td>\n",
       "    </tr>\n",
       "    <tr>\n",
       "      <th>pmids</th>\n",
       "      <td>[17234386]</td>\n",
       "    </tr>\n",
       "    <tr>\n",
       "      <th>query_end_pos</th>\n",
       "      <td>876</td>\n",
       "    </tr>\n",
       "    <tr>\n",
       "      <th>query_id</th>\n",
       "      <td>test_isolate_02 blaCTX-M-33_1_AY238472</td>\n",
       "    </tr>\n",
       "    <tr>\n",
       "      <th>query_start_pos</th>\n",
       "      <td>1</td>\n",
       "    </tr>\n",
       "    <tr>\n",
       "      <th>ref_acc</th>\n",
       "      <td>AY238472</td>\n",
       "    </tr>\n",
       "    <tr>\n",
       "      <th>ref_database</th>\n",
       "      <td>[ResFinder-2.1.1]</td>\n",
       "    </tr>\n",
       "    <tr>\n",
       "      <th>ref_end_pos</th>\n",
       "      <td>876</td>\n",
       "    </tr>\n",
       "    <tr>\n",
       "      <th>ref_id</th>\n",
       "      <td>blaCTX-M-33_1_AY238472</td>\n",
       "    </tr>\n",
       "    <tr>\n",
       "      <th>ref_seq_lenght</th>\n",
       "      <td>876</td>\n",
       "    </tr>\n",
       "    <tr>\n",
       "      <th>ref_start_pos</th>\n",
       "      <td>1</td>\n",
       "    </tr>\n",
       "    <tr>\n",
       "      <th>type</th>\n",
       "      <td>seq_region</td>\n",
       "    </tr>\n",
       "  </tbody>\n",
       "</table>\n",
       "</div>"
      ],
      "text/plain": [
       "                                           blaCTX-M-33;;1;;AY238472\n",
       "alignment_length                                                876\n",
       "coverage                                                      100.0\n",
       "gene                                                           True\n",
       "grade                                                             3\n",
       "identity                                                      100.0\n",
       "key                                        blaCTX-M-33;;1;;AY238472\n",
       "name                                                    blaCTX-M-33\n",
       "notes                                                     [Class A]\n",
       "phenotypes        [amoxicillin, ampicillin, cefepime, cefotaxime...\n",
       "pmids                                                    [17234386]\n",
       "query_end_pos                                                   876\n",
       "query_id                     test_isolate_02 blaCTX-M-33_1_AY238472\n",
       "query_start_pos                                                   1\n",
       "ref_acc                                                    AY238472\n",
       "ref_database                                      [ResFinder-2.1.1]\n",
       "ref_end_pos                                                     876\n",
       "ref_id                                       blaCTX-M-33_1_AY238472\n",
       "ref_seq_lenght                                                  876\n",
       "ref_start_pos                                                     1\n",
       "type                                                     seq_region"
      ]
     },
     "execution_count": 5,
     "metadata": {},
     "output_type": "execute_result"
    }
   ],
   "source": [
    "import pandas as pd\n",
    "\n",
    "seq_regions_table = pd.DataFrame(random_json[\"seq_regions\"])\n",
    "\n",
    "seq_regions_table"
   ]
  },
  {
   "cell_type": "code",
   "execution_count": 8,
   "metadata": {},
   "outputs": [
    {
     "data": {
      "text/plain": [
       "blaCTX-M-33;;1;;AY238472    [amoxicillin, ampicillin, cefepime, cefotaxime...\n",
       "Name: phenotypes, dtype: object"
      ]
     },
     "execution_count": 8,
     "metadata": {},
     "output_type": "execute_result"
    }
   ],
   "source": [
    "phenos = seq_regions_table.loc[\"phenotypes\"]\n",
    "phenos"
   ]
  },
  {
   "cell_type": "code",
   "execution_count": 13,
   "metadata": {},
   "outputs": [
    {
     "data": {
      "text/plain": [
       "blaCTX-M-33;;1;;AY238472    876\n",
       "Name: alignment_length, dtype: object"
      ]
     },
     "execution_count": 13,
     "metadata": {},
     "output_type": "execute_result"
    }
   ],
   "source": [
    "seq_regions_table.loc[\"alignment_length\"].values.tolist()"
   ]
  },
  {
   "cell_type": "code",
   "execution_count": 16,
   "metadata": {},
   "outputs": [
    {
     "data": {
      "text/plain": [
       "1"
      ]
     },
     "execution_count": 16,
     "metadata": {},
     "output_type": "execute_result"
    }
   ],
   "source": [
    "a = seq_regions_table.loc[\"query_start_pos\"]\n",
    "a.values[0]"
   ]
  }
 ],
 "metadata": {
  "kernelspec": {
   "display_name": ".venv",
   "language": "python",
   "name": "python3"
  },
  "language_info": {
   "codemirror_mode": {
    "name": "ipython",
    "version": 3
   },
   "file_extension": ".py",
   "mimetype": "text/x-python",
   "name": "python",
   "nbconvert_exporter": "python",
   "pygments_lexer": "ipython3",
   "version": "3.10.13"
  }
 },
 "nbformat": 4,
 "nbformat_minor": 2
}
